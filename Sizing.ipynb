{
 "cells": [
  {
   "cell_type": "code",
   "execution_count": 8,
   "id": "89074b3a",
   "metadata": {},
   "outputs": [],
   "source": [
    "import numpy as np\n",
    "import matplotlib.pyplot as plt"
   ]
  },
  {
   "cell_type": "markdown",
   "id": "417b4d06",
   "metadata": {},
   "source": [
    "## Comms"
   ]
  },
  {
   "cell_type": "code",
   "execution_count": 3,
   "id": "0a5074d9",
   "metadata": {},
   "outputs": [],
   "source": [
    "def shannon(B, CN):\n",
    "    return B*np.log2(1+CN)"
   ]
  },
  {
   "cell_type": "code",
   "execution_count": 39,
   "id": "5f8c5f49",
   "metadata": {},
   "outputs": [],
   "source": [
    "B = 1000000*1\n",
    "# R = shannon(B, CN)"
   ]
  },
  {
   "cell_type": "code",
   "execution_count": 64,
   "id": "9259737e",
   "metadata": {},
   "outputs": [],
   "source": [
    "class SNRConstants:\n",
    "    def __init__(self, D, Pt):\n",
    "        self.D = D\n",
    "        self.Gt = 6\n",
    "        self.Pt = Pt\n",
    "        self.B = 1000000*10\n",
    "        self.T = 150\n",
    "        self.k = 1.380649e-23 \n",
    "        self.e = 0.9"
   ]
  },
  {
   "cell_type": "code",
   "execution_count": 65,
   "id": "6feee59a",
   "metadata": {},
   "outputs": [],
   "source": [
    "def SNR(constants, r):\n",
    "    e = constants.e\n",
    "    D = constants.D\n",
    "    Gt = constants.Gt\n",
    "    Pt = constants.Pt\n",
    "    \n",
    "    B = constants.B\n",
    "    T = constants.T\n",
    "    k = constants.k\n",
    "    e = constants.e\n",
    "    \n",
    "    num = e*D**2*Gt*Pt\n",
    "    denom = 16*(r*1.496e11)**2*k*B*T\n",
    "    return num / denom"
   ]
  },
  {
   "cell_type": "code",
   "execution_count": 66,
   "id": "acf2165a",
   "metadata": {},
   "outputs": [],
   "source": [
    "r = np.arange(0.01, 2, 0.01)\n",
    "constants64mPt15 = SNRConstants(D = 0.6, Pt = 35)\n",
    "constants35mPt15 = SNRConstants(D = 0.6, Pt = 15)\n",
    "\n",
    "snr64mPt15 = SNR(constants64mPt15, r)\n",
    "snr35mPt15 = SNR(constants35mPt15, r)"
   ]
  },
  {
   "cell_type": "code",
   "execution_count": 67,
   "id": "ef867e84",
   "metadata": {},
   "outputs": [],
   "source": [
    "R64mPt15 = shannon(constants64mPt15.B, snr64mPt15)\n",
    "R35mPt15 = shannon(constants35mPt15.B, snr35mPt15)"
   ]
  },
  {
   "cell_type": "code",
   "execution_count": 68,
   "id": "dce23a7a",
   "metadata": {},
   "outputs": [
    {
     "data": {
      "text/plain": [
       "Text(0.5, 0, 'Distance from Earth (AU)')"
      ]
     },
     "execution_count": 68,
     "metadata": {},
     "output_type": "execute_result"
    },
    {
     "data": {
      "image/png": "[encoded data removed]",
      "text/plain": [
       "<Figure size 432x288 with 1 Axes>"
      ]
     },
     "metadata": {
      "needs_background": "light"
     },
     "output_type": "display_data"
    }
   ],
   "source": [
    "plt.plot(r, R64mPt15/1000, label = \"Power = 35W\")\n",
    "plt.plot(r, R35mPt15/1000, label = \"Power = 15W\")\n",
    "plt.legend()\n",
    "plt.yscale(\"log\")\n",
    "plt.ylabel(\"Data rate (bps)\")\n",
    "plt.xlabel(\"Distance from Earth (AU)\")"
   ]
  },
  {
   "cell_type": "code",
   "execution_count": 116,
   "id": "f7de8fc0",
   "metadata": {},
   "outputs": [],
   "source": [
    "def rateAt(P, dist, size):\n",
    "    \"\"\"P is in W, dist is in AU, antennae size is in meters\"\"\"\n",
    "    constants = SNRConstants(size, P)\n",
    "    snr = SNR(constants, dist)\n",
    "    return shannon(B, snr)"
   ]
  },
  {
   "cell_type": "code",
   "execution_count": 123,
   "id": "0ba62502",
   "metadata": {},
   "outputs": [
    {
     "data": {
      "text/plain": [
       "0.09192182670301939"
      ]
     },
     "execution_count": 123,
     "metadata": {},
     "output_type": "execute_result"
    }
   ],
   "source": [
    "rateAt(35, 1.2, 0.6)"
   ]
  },
  {
   "cell_type": "markdown",
   "id": "389929bb",
   "metadata": {},
   "source": [
    "Downarrow: Rate for a fixed distance is directly proportional to power. It's difficult to get a high data rate without needing a huge battery, so let's go low and target around 0.1 kpbs at the asteroid (for reference, Dawn has a downlink rate of 124 kpbs and uplink rate of 1 kpbs). Don't want the size of the transmitter antennae diameter to be above ~0.7 meters. As such, let's target a power of 35 Watts. "
   ]
  }
 ],
 "metadata": {
  "kernelspec": {
   "display_name": "Python 3 (ipykernel)",
   "language": "python",
   "name": "python3"
  },
  "language_info": {
   "codemirror_mode": {
    "name": "ipython",
    "version": 3
   },
   "file_extension": ".py",
   "mimetype": "text/x-python",
   "name": "python",
   "nbconvert_exporter": "python",
   "pygments_lexer": "ipython3",
   "version": "3.9.7"
  }
 },
 "nbformat": 4,
 "nbformat_minor": 5
}
